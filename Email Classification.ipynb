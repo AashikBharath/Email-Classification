{
 "cells": [
  {
   "cell_type": "markdown",
   "metadata": {},
   "source": [
    "<font size=\"6\"><strong><center>SPAM CLASSIFICATION<center></strong></font>"
   ]
  },
  {
   "cell_type": "markdown",
   "metadata": {},
   "source": [
    "<font color=\"Purple\"><font size=\"3\"><b>Name: AASHIK BHARATH EGNYA VARAHAN</b></font><br>\n",
    "<font color=\"Purple\"><font size=\"3\"><b>Student No.: R00182866</b></font>"
   ]
  },
  {
   "cell_type": "code",
   "execution_count": 1,
   "metadata": {},
   "outputs": [],
   "source": [
    "import os\n",
    "import re\n",
    "import time\n",
    "import operator\n",
    "import itertools \n",
    "import pickle\n",
    "import pandas as pd\n",
    "import numpy as np\n",
    "from sklearn.utils import resample\n",
    "from sklearn.model_selection import train_test_split\n",
    "from sklearn.feature_extraction.text import TfidfVectorizer, CountVectorizer, ENGLISH_STOP_WORDS\n",
    "from sklearn.svm import LinearSVC, SVC\n",
    "from sklearn.naive_bayes import MultinomialNB\n",
    "from sklearn.metrics import accuracy_score,recall_score,precision_score,confusion_matrix,f1_score,precision_recall_curve\n",
    "from sklearn.metrics import roc_curve, auc\n",
    "import matplotlib.pyplot as plt\n",
    "import seaborn as sn"
   ]
  },
  {
   "cell_type": "markdown",
   "metadata": {},
   "source": [
    "<font size=\"5\"><strong>Imports</strong></font>"
   ]
  },
  {
   "cell_type": "markdown",
   "metadata": {},
   "source": [
    "1. <b>os:</b> It allows to operate on underlying Operating System tasks\n",
    "2. <b>re:</b> It is used for ridding the string from special and unwanted characters which have no meaning or feeling behind it such as \"<\", \">\" etc\n",
    "3. <b>time:</b> It is used to keep track of the execution time taken for complete process\n",
    "4. <b>operator:</b> It is used to import a set of efficient functions corresponding to the intrinsic operators\n",
    "5. <b>itertols:</b> It provides various functions that work on iterators to produce complex iterators\n",
    "6. <b>pickle:</b> It converts a python object (list, dict, etc.) into a character stream and stores it in a file\n",
    "7. <b>pandas:</b> It is used for data manipulation and analysis\n",
    "8. <b>numpy:</b> It is used to perform scientific computing and data manipulation\n",
    "9. <b>sklearn:</b> Scikit-learn is used for implementing machine learning algorithms, feature extractions and computing various scores of predicted models\n",
    "10. <b>matplotlib:</b> pyplot is a collection of command style functions that make matplotlib work like MATLAB\n",
    "11. <b>seaborn:</b> It is a data visualization library based on matplotlib, provides a high-level interface for drawing attractive and informative statistical graphics."
   ]
  },
  {
   "cell_type": "markdown",
   "metadata": {},
   "source": [
    "<font size=\"5\"><strong>Reading the Files</strong></font>"
   ]
  },
  {
   "cell_type": "code",
   "execution_count": 2,
   "metadata": {},
   "outputs": [],
   "source": [
    "def open_and_read_files(rootdir):\n",
    "    ham_list=[]\n",
    "    spam_list=[]\n",
    "\n",
    "    for directories, subdirs, files in os.walk(rootdir):\n",
    "        if (os.path.split(directories)[1]  == 'ham'):\n",
    "            for filename in files:      \n",
    "                with open(os.path.join(directories, filename), encoding=\"latin-1\") as file:\n",
    "                    file.seek(0)\n",
    "                    first_char = file.read(1)\n",
    "                    if not first_char:\n",
    "                        continue\n",
    "                    else:\n",
    "                        file.seek(0)\n",
    "                        data = file.read()\n",
    "                        ham_list.append(data)\n",
    "\n",
    "    for directories, subdirs, files in os.walk(rootdir):\n",
    "        if (os.path.split(directories)[1]  == 'spam'):\n",
    "            for filename in files:      \n",
    "                with open(os.path.join(directories, filename), encoding=\"latin-1\") as file:\n",
    "                    file.seek(0)\n",
    "                    first_char = file.read(1)\n",
    "                    if not first_char:\n",
    "                        continue\n",
    "                    else:\n",
    "                        file.seek(0)\n",
    "                        data = file.read()\n",
    "                        spam_list.append(data)\n",
    "\n",
    "    return ham_list, spam_list"
   ]
  },
  {
   "cell_type": "markdown",
   "metadata": {},
   "source": [
    "<li><b>@params rootdir:</b> It is the path of the directory where dataset is stored</li>\n",
    "<li><b>@returns ham_list, spam_list:</b> It returns the list of ham and spam emails data</li>\n",
    "\n",
    "The above code snippet reads the data from each and every file under ham and spam sub folders of Enron dataset.   \n",
    "The emails read from these files are stored in separate designated lists (ham_list, spam_list).   \n",
    "If the email is found to be null, then that particular email is discarded and will not be stored to the list."
   ]
  },
  {
   "cell_type": "markdown",
   "metadata": {},
   "source": [
    "<font size=\"5\"><strong>Cleaning the Data</strong></font>"
   ]
  },
  {
   "cell_type": "code",
   "execution_count": 3,
   "metadata": {},
   "outputs": [],
   "source": [
    "def clean_list(ham_list, spam_list):\n",
    "    ham_cleaned_list=[]\n",
    "    spam_cleaned_list=[]\n",
    "    \n",
    "    for i in ham_list:\n",
    "        the_clean_email = re.sub(r\"[\\;\\?\\<\\>\\,\\\"\\|\\:\\.\\`\\~\\{\\}\\\\\\/@$\\%\\[\\]\\(\\)\\^\\-\\+\\&#\\*\\!\\_\\=]*\", \"\", i)\n",
    "        the_clean_email.strip()\n",
    "        ham_cleaned_list.append(the_clean_email)\n",
    "    \n",
    "    for j in spam_list:\n",
    "        the_clean_email = re.sub(r\"[\\;\\?\\<\\>\\,\\\"\\|\\:\\.\\`\\~\\{\\}\\\\\\/@$\\%\\[\\]\\(\\)\\^\\-\\+\\&#\\*\\!\\_\\=]*\", \"\", j)\n",
    "        the_clean_email.strip()\n",
    "        spam_cleaned_list.append(the_clean_email)\n",
    "    \n",
    "    return ham_cleaned_list, spam_cleaned_list"
   ]
  },
  {
   "cell_type": "markdown",
   "metadata": {},
   "source": [
    "<li><b>@params ham_list, spam_list:</b> It stores the list of ham and spam emails data</li>\n",
    "<li><b>@returns ham_cleaned_list, spam_cleaned_list:</b> It returns the cleaned data after removing unwanted special characters and white spaces</li>\n",
    "    \n",
    "Unnecessary characters and white spaces are removed from emails.\n",
    "The cleaned email data is stored in separate lists."
   ]
  },
  {
   "cell_type": "markdown",
   "metadata": {},
   "source": [
    "<font size=\"5\"><strong>Removing Duplicates</strong></font>"
   ]
  },
  {
   "cell_type": "code",
   "execution_count": 4,
   "metadata": {},
   "outputs": [],
   "source": [
    "def remove_duplicates(ham_cleaned_list, spam_cleaned_list):\n",
    "    ham_unique = set(ham_cleaned_list)\n",
    "    ham_unique_list = list(ham_unique)\n",
    "    \n",
    "    spam_unique = set(spam_cleaned_list)\n",
    "    spam_unique_list = list(spam_unique)\n",
    "    \n",
    "    return ham_unique_list, spam_unique_list"
   ]
  },
  {
   "cell_type": "markdown",
   "metadata": {},
   "source": [
    "<li><b>@params ham_cleaned_list, spam_cleaned_list:</b> It stores the cleaned data after removing unwanted special characters and white spaces</li>\n",
    "<li><b>@returns ham_processed_list, spam_processed_list:</b> It returns unique list of both ham and spam emails</li>\n",
    "    \n",
    "Duplicate emails are removed from both the list using <b>set</b> method"
   ]
  },
  {
   "cell_type": "markdown",
   "metadata": {},
   "source": [
    "<font size=\"5\"><strong>Converts into DataFrame</strong></font>"
   ]
  },
  {
   "cell_type": "code",
   "execution_count": 5,
   "metadata": {},
   "outputs": [],
   "source": [
    "def convert_as_dataframe(ham_list, spam_list):\n",
    "    data=[]\n",
    "    for i in ham_list:\n",
    "        message_ham = re.sub(r\"\\n\", \" \", i)\n",
    "        data.append({'message':message_ham, 'class': 'Ham'})\n",
    "\n",
    "    for j in spam_list:\n",
    "        message_spam = re.sub(r\"\\n\", \" \", j)\n",
    "        data.append({'message':message_spam, 'class': 'Spam'})\n",
    "        \n",
    "    emails_df = pd.DataFrame(data)\n",
    "    \n",
    "    return emails_df"
   ]
  },
  {
   "cell_type": "markdown",
   "metadata": {},
   "source": [
    "<li><b>@params ham_list, spam_list:</b> It stores the unique list of both ham and spam emails</li>\n",
    "<li><b>@return emails_df:</b> It returns the email messages and its class as a pandas dataframe</li>\n",
    "\n",
    "The delimiter <b>\"\\n\"</b> is replaced with a space.  \n",
    "Each email message is appended to a list with its class type.  \n",
    "The final list is converted into a pandas dataframe for further processing"
   ]
  },
  {
   "cell_type": "markdown",
   "metadata": {},
   "source": [
    "<font size=\"5\"><strong>Train/Test Data Split</strong></font>"
   ]
  },
  {
   "cell_type": "code",
   "execution_count": 6,
   "metadata": {},
   "outputs": [],
   "source": [
    "def split_data(emails_df):\n",
    "    # Categorizes spam as 0 and ham as 1\n",
    "    emails_df.loc[emails_df[\"class\"] == 'Ham', \"class\",] = 1\n",
    "    emails_df.loc[emails_df[\"class\"] == 'Spam', \"class\",] = 0\n",
    "    \n",
    "    # Dataframe is subset as message and class\n",
    "    df_message = emails_df['message']\n",
    "    df_class = emails_df['class']\n",
    "    \n",
    "    message_train, message_test, class_train, class_test = train_test_split(df_message, df_class, train_size=0.7, test_size=0.3, random_state=866, shuffle=True)\n",
    "    \n",
    "    return message_train, message_test, class_train, class_test"
   ]
  },
  {
   "cell_type": "markdown",
   "metadata": {},
   "source": [
    "<li><b>@param emails_df:</b> It stores the email messages and its class as a pandas dataframe</li>\n",
    "<li><b>@returns message_train, message_test, class_train, class_test:</b> It returns the classified training and testing data of email messages and its corresponding class</li>\n",
    "    \n",
    "The above function categorizes spam and ham data as numerical values 0 & 1.  \n",
    "The dataframe is then subset into separate series message and class.  \n",
    "Using <b>train_test_split</b> method from Scikit learn package, the dataset is splitted as train and test dataset in the ratio of <b>0.7:0.3</b>\n"
   ]
  },
  {
   "cell_type": "markdown",
   "metadata": {},
   "source": [
    "<font size=\"5\"><strong>Feature Extraction</strong></font>"
   ]
  },
  {
   "cell_type": "code",
   "execution_count": 7,
   "metadata": {},
   "outputs": [],
   "source": [
    "def feature_extraction(message_train, message_test):\n",
    "    # \"subject\" is added to the list of stop_words\n",
    "    my_stop_words = ENGLISH_STOP_WORDS.union([\"subject\"])\n",
    "    \n",
    "    # feature extraction\n",
    "    vec= TfidfVectorizer(min_df=2, encoding='utf-8', stop_words=my_stop_words, analyzer='word')\n",
    "    \n",
    "    message_train_Feature = vec.fit_transform(message_train)\n",
    "    message_test_Feature = vec.transform(message_test)\n",
    "    \n",
    "    return message_train_Feature, message_test_Feature"
   ]
  },
  {
   "cell_type": "markdown",
   "metadata": {},
   "source": [
    "<li><b>@param message_train, message_test:</b> It stores the training and testing data of email messages</li>\n",
    "<li><b>@returns message_train_Feature, message_test_Feature:</b> It returns TF-IDF features of email messages from both ham and spam data</li>\n",
    "    \n",
    "The objective of this function is to extract TD-IDF features from the email messages of both train and test data.\n",
    "- <b>min_df:</b> This parameter is used to set a threshold to ignore terms that occur lower than the given threshold.  \n",
    "- <b>encoding:</b> This parameter decides the type of encoding used to decode.\n",
    "- <b>stop_words:</b> This parameter is used to remove stop words from the features. Here, <b>\"subject\"</b> is added in addition to the existing list of stop words since it is present in both ham and spam emails frequently\n",
    "- <b>analyzer:</b> This parameter decides whether the feature should be made of word or character n-grams\n",
    "    \n",
    "The stop_words are introduced to further improve the anaytics. The other parameters are all set to default.\n"
   ]
  },
  {
   "cell_type": "markdown",
   "metadata": {},
   "source": [
    "<font size=\"5\"><strong>Exploratory Data Analysis</strong></font>"
   ]
  },
  {
   "cell_type": "code",
   "execution_count": 8,
   "metadata": {},
   "outputs": [],
   "source": [
    "def eda(message_train, class_train):\n",
    "    # Creates new lists to append Ham and Spam Emails from training dataset\n",
    "    list_ham = []\n",
    "    list_spam = []\n",
    "    \n",
    "    train_df = pd.concat([message_train, class_train], axis=1)\n",
    "    \n",
    "    for i, j in train_df.iterrows():\n",
    "        if j['class']==1:\n",
    "            list_ham.append(j['message'])\n",
    "        else:\n",
    "            list_spam.append(j['message'])\n",
    "    \n",
    "    # Finds top 20 frequently used words in both Ham and Spam messages\n",
    "    my_stop_words = ENGLISH_STOP_WORDS.union([\"subject\"])\n",
    "    cv = CountVectorizer(min_df=2, encoding='utf-8', stop_words=my_stop_words, analyzer='word') \n",
    "    \n",
    "    cv_fit_ham = cv.fit_transform(list_ham)    \n",
    "    word_list_ham = cv.get_feature_names();    \n",
    "    count_list_ham = cv_fit_ham.toarray().sum(axis=0)\n",
    "\n",
    "    ham_dict = dict(zip(word_list_ham,count_list_ham))\n",
    "    \n",
    "    cv_fit_spam = cv.fit_transform(list_spam)    \n",
    "    word_list_spam = cv.get_feature_names();    \n",
    "    count_list_spam = cv_fit_spam.toarray().sum(axis=0)\n",
    "\n",
    "    spam_dict = dict(zip(word_list_spam,count_list_spam))\n",
    "    \n",
    "    sorted_ham = dict(sorted(ham_dict.items(), key=operator.itemgetter(1),reverse=True))\n",
    "    sorted_spam = dict(sorted(spam_dict.items(), key=operator.itemgetter(1),reverse=True))\n",
    "    \n",
    "    sliced_ham = dict(itertools.islice(sorted_ham.items(), 20))\n",
    "    sliced_spam = dict(itertools.islice(sorted_spam.items(), 20))\n",
    "    \n",
    "    return sliced_ham, sliced_spam, list_ham, list_spam"
   ]
  },
  {
   "cell_type": "markdown",
   "metadata": {},
   "source": [
    "<li><b>@param message_train, message_test:</b> It stores the training and testing data of email messages</li>\n",
    "<li><b>@returns sliced_ham, sliced_spam, list_ham, list_spam:</b> It returns dictionary of top 20 frequently used words in both Ham and Spam messages. Also, it returns the Ham and Spam Emails extracted from training dataset for further comparison</li>\n",
    "    \n",
    "The objective of this function is to extract <b>top 20 frequently used words in Ham and Spam Emails</b> and messages in training dataset. "
   ]
  },
  {
   "cell_type": "code",
   "execution_count": 9,
   "metadata": {},
   "outputs": [],
   "source": [
    "def eda_comparison(list_ham, list_spam):  \n",
    "    # Compares email length distribution in Ham and Spam types\n",
    "    ham=[]\n",
    "    spam=[]\n",
    "    # Iterates through the list of Ham emails\n",
    "    for i in range(0, len(list_ham)):\n",
    "        a = str(list_ham[i])\n",
    "        char_ham = len(a)\n",
    "        ham.append(char_ham)\n",
    "    \n",
    "    # Iterates through the list of Spam emails\n",
    "    for i in range(0, len(list_spam)):\n",
    "        b = str(list_spam[i])\n",
    "        char_spam = len(b)\n",
    "        spam.append(char_spam)\n",
    "    \n",
    "    return ham, spam"
   ]
  },
  {
   "cell_type": "markdown",
   "metadata": {},
   "source": [
    "<li><b>@param list_ham, list_spam:</b> It stores the Ham and Spam email messages from training dataset</li>\n",
    "<li><b>@returns ham, spam:</b> It returns a list of both Ham and Spam emails length</li>\n",
    "    \n",
    "The objective of this function is to <b>compare email length distribution between Ham and Spam types</b>"
   ]
  },
  {
   "cell_type": "markdown",
   "metadata": {},
   "source": [
    "<font size=\"5\"><strong>Model Classification & Selection</strong></font>"
   ]
  },
  {
   "cell_type": "code",
   "execution_count": 10,
   "metadata": {},
   "outputs": [],
   "source": [
    "def model_predictions(message_train_Feature, message_test_Feature, class_train_int):\n",
    "    # Predicts the accuracy in two models - Support Vector Machine and Multinomial Naive Bayes\n",
    "    Model_SVM = LinearSVC()\n",
    "    Model_SVM.fit(message_train_Feature, class_train_int)\n",
    "    Pred_SVM = Model_SVM.predict(message_test_Feature)\n",
    "\n",
    "    Model_MNB = MultinomialNB(alpha=1.0, class_prior=None, fit_prior=True)\n",
    "    Model_MNB.fit(message_train_Feature, class_train_int)\n",
    "    Pred_MNB = Model_MNB.predict(message_test_Feature)\n",
    "    \n",
    "    return Pred_SVM, Pred_MNB"
   ]
  },
  {
   "cell_type": "markdown",
   "metadata": {},
   "source": [
    "<li><b>@param message_train_Feature, message_test_Feature, class_train_int:</b> It stores the train and test message features. Also, training class is passed as integer parameter</li>\n",
    "<li><b>@returns Pred_SVM, Pred_MNB:</b> It returns two models - SVM and MNB predictions</li>\n",
    "    \n",
    "<b>The objective of this function is to predict the accuracy of the trained models - SVM and MNB against the test dataset.</b>"
   ]
  },
  {
   "cell_type": "code",
   "execution_count": 11,
   "metadata": {},
   "outputs": [],
   "source": [
    "def model_SVM(message_train_Feature, message_test_Feature, class_train_int, class_test_int):\n",
    "    # Trains and saves hypertuned SVM model with different parameters\n",
    "    list_CV = np.arange(1, 20, 1)\n",
    "    score_train = np.zeros(len(list_CV))\n",
    "    score_test = np.zeros(len(list_CV))\n",
    "    recall_test = np.zeros(len(list_CV))\n",
    "    precision_test= np.zeros(len(list_CV))\n",
    "    count = 0\n",
    "    \n",
    "    for C in list_CV:\n",
    "        svm = LinearSVC(C=C)\n",
    "        svm.fit(message_train_Feature, class_train_int)\n",
    "        score_train[count] = svm.score(message_train_Feature, class_train_int)\n",
    "        score_test[count]= svm.score(message_test_Feature, class_test_int)\n",
    "        recall_test[count] = recall_score(class_test_int, svm.predict(message_test_Feature))\n",
    "        precision_test[count] = precision_score(class_test_int, svm.predict(message_test_Feature))\n",
    "        count = count + 1 \n",
    "\n",
    "    matrix = np.matrix(np.c_[list_CV, score_train, score_test, recall_test, precision_test])\n",
    "    models = pd.DataFrame(data = matrix, columns = ['CV', 'Train Accuracy', 'Test Accuracy', 'Test Recall', 'Test Precision'])\n",
    "    \n",
    "    max_val = models['Test Precision'].max()\n",
    "    best_index = models[models['Test Precision']==max_val]['Test Accuracy'].idxmax()\n",
    "\n",
    "    svm = LinearSVC(C=list_CV[best_index])\n",
    "    svm.fit(message_train_Feature, class_train_int)\n",
    "    \n",
    "    filename = 'spamfilter_SVM.sav'\n",
    "    pickle.dump(svm, open(filename, 'wb'))\n",
    "    \n",
    "    return models"
   ]
  },
  {
   "cell_type": "markdown",
   "metadata": {},
   "source": [
    "<li><b>@param message_train_Feature, message_test_Feature, class_train_int, class_test_int:</b> It stores the train and test message features. Also, training and test dataset class are passed as integer parameter</li>\n",
    "<li><b>@returns models:</b> It returns a table of hypertuned SVM model parameters</li>\n",
    "    \n",
    "<b>The objective of this function is to hypertune the parameters in SVM model to get the accurate model in terms of predicting the Spam Emails.</b> \n",
    "- The <b>Support Vector Machine</b> Model is fine tuned for \"k\"-folds Cross Validation parameter and for each k-fold, Train Score, Test Score, Recall and Precision Scores are computed.\n",
    "- The computed values are tabulated as a DataFrame.\n",
    "- The CV which has the best value for <b>\"Precision Score\"</b> is chosen, followed by other scoring values.\n",
    "- Finally, the best model with hypertuned parameters is fit with training dataset and saved to disk."
   ]
  },
  {
   "cell_type": "code",
   "execution_count": 12,
   "metadata": {},
   "outputs": [],
   "source": [
    "def model_MNB(message_train_Feature, message_test_Feature, class_train_int, class_test_int):\n",
    "    # Trains and saves hypertuned MNB model with different parameters\n",
    "    list_alpha = np.arange(1/10000, 20, 0.0055) \n",
    "    score_train = np.zeros(len(list_alpha))\n",
    "    score_test = np.zeros(len(list_alpha))\n",
    "    recall_test = np.zeros(len(list_alpha))\n",
    "    precision_test= np.zeros(len(list_alpha))\n",
    "    count = 0\n",
    "    \n",
    "    for alpha in list_alpha:\n",
    "        bayes = MultinomialNB(alpha=alpha)\n",
    "        bayes.fit(message_train_Feature, class_train_int)\n",
    "        score_train[count] = bayes.score(message_train_Feature, class_train_int)\n",
    "        score_test[count]= bayes.score(message_test_Feature, class_test_int)\n",
    "        recall_test[count] = recall_score(class_test_int, bayes.predict(message_test_Feature))\n",
    "        precision_test[count] = precision_score(class_test_int, bayes.predict(message_test_Feature))\n",
    "        count = count + 1 \n",
    "\n",
    "    matrix = np.matrix(np.c_[list_alpha, score_train, score_test, recall_test, precision_test])\n",
    "    models = pd.DataFrame(data = matrix, columns = ['alpha', 'Train Accuracy', 'Test Accuracy', 'Test Recall', 'Test Precision'])\n",
    "\n",
    "    max_val = models['Test Precision'].max()\n",
    "    best_index = models[models['Test Precision']==max_val]['Test Accuracy'].idxmax()\n",
    "    \n",
    "    bayes = MultinomialNB(alpha=list_alpha[best_index])\n",
    "    bayes.fit(message_train_Feature, class_train_int)\n",
    "    \n",
    "    filename = 'spamfilter_MNB.sav'\n",
    "    pickle.dump(bayes, open(filename, 'wb'))\n",
    "    \n",
    "    return models"
   ]
  },
  {
   "cell_type": "markdown",
   "metadata": {},
   "source": [
    "<li><b>@param message_train_Feature, message_test_Feature, class_train_int, class_test_int:</b> It stores the train and test message features. Also, training and test dataset class are passed as integer parameter</li>\n",
    "<li><b>@returns models:</b> It returns a table of hypertuned MNB model parameters</li>\n",
    "    \n",
    "<b>The objective of this function is to hypertune the parameters in MNB model to get the accurate model in terms of predicting the Spam Emails.</b> \n",
    "- The <b>Multinomial Naive Bayes</b> Model is fine tuned for different alpha values and for each alpha value, Train Score, Test Score, Recall and Precision Scores are computed.\n",
    "- The computed values are tabulated as a DataFrame.\n",
    "- The alpha value which has the maximum <b>\"Precision Score\"</b> is chosen, followed by other scoring values.\n",
    "- Finally, the best model with hypertuned parameters is fit with training dataset and saved to disk."
   ]
  },
  {
   "cell_type": "markdown",
   "metadata": {},
   "source": [
    "<font size=\"5\"><strong>Model Evaluation</strong></font>"
   ]
  },
  {
   "cell_type": "code",
   "execution_count": 13,
   "metadata": {},
   "outputs": [],
   "source": [
    "def model_Evaluation(message_train_Feature, message_test_Feature, class_train_int, class_test_int):\n",
    "    \n",
    "    classifier = SVC(kernel='linear',probability=True)\n",
    "    model = classifier.fit(message_train_Feature, class_train_int)\n",
    "\n",
    "    probas_ = model.predict_proba(message_test_Feature)\n",
    "    probas_ = probas_[:, 1]\n",
    "    \n",
    "    fpr, tpr, thresholds = roc_curve(class_test_int, probas_)\n",
    "    roc_auc = auc(fpr, tpr)\n",
    "    \n",
    "    yhat = model.predict(message_test_Feature)\n",
    "    precision, recall, _ = precision_recall_curve(class_test_int, probas_)\n",
    "    f1, area_under_curve = f1_score(class_test_int, yhat), auc(recall, precision)\n",
    "    \n",
    "    no_skill = len(class_test_int[class_test_int==1]) / len(class_test_int)\n",
    "    \n",
    "    return roc_auc, fpr, tpr, f1, area_under_curve, no_skill, precision, recall"
   ]
  },
  {
   "cell_type": "markdown",
   "metadata": {},
   "source": [
    "<li><b>@param message_train_Feature, message_test_Feature, class_train_int, class_test_int:</b> It stores the train and test message features. Also, training and test dataset class are passed as integer parameter</li>\n",
    "<li><b>@returns roc_auc, fpr, tpr, f1, area_under_curve, no_skill, precision, recall:</b> It returns a set of scores and values to plot ROC and Precision-Recall Curves for Model Evaluation</li>\n",
    "    \n",
    "The objective of this function is to plot ROC and Precision-Recall Curves."
   ]
  },
  {
   "cell_type": "markdown",
   "metadata": {},
   "source": [
    "<font size=\"5\"><strong>Main: Entry Point</strong></font>"
   ]
  },
  {
   "cell_type": "code",
   "execution_count": 14,
   "metadata": {},
   "outputs": [
    {
     "name": "stdout",
     "output_type": "stream",
     "text": [
      "------------ STATISTICS ON TRAIN AND TEST DATASETS -------------\n",
      "\n",
      "\n",
      "*****Before Data Cleaning*****\n",
      "Total Number of E-Mails : 5173\n",
      "Total Number of Ham E-Mails : 3673\n",
      "Total Number of Spam E-Mails : 1500\n",
      "\n",
      "*****After Data Cleaning*****\n",
      "Total Number of E-Mails : 4994\n",
      "Total Number of Ham E-Mails : 3531\n",
      "Total Number of Spam E-Mails : 1463\n"
     ]
    },
    {
     "data": {
      "image/png": "[encoded data removed]",
      "text/plain": [
       "<Figure size 432x288 with 1 Axes>"
      ]
     },
     "metadata": {},
     "output_type": "display_data"
    },
    {
     "name": "stdout",
     "output_type": "stream",
     "text": [
      "\n",
      "*****After Resampling Data*****\n",
      "Total Number of E-Mails : 2926\n",
      "Total Number of Ham E-Mails : 1463\n",
      "Total Number of Spam E-Mails : 1463\n"
     ]
    },
    {
     "data": {
      "image/png": "[encoded data removed]",
      "text/plain": [
       "<Figure size 432x288 with 1 Axes>"
      ]
     },
     "metadata": {},
     "output_type": "display_data"
    },
    {
     "name": "stdout",
     "output_type": "stream",
     "text": [
      "\n",
      "\n",
      "\n",
      "---------------- EXPLORATORY DATA ANALYSIS ----------------\n",
      "\n",
      "The Top 20 Most Frequently Used Words in Ham Emails are:\n",
      "1. ect\n",
      "2. hou\n",
      "3. enron\n",
      "4. com\n",
      "5. 2000\n",
      "6. deal\n",
      "7. gas\n",
      "8. cc\n",
      "9. meter\n",
      "10. pm\n",
      "11. hpl\n",
      "12. daren\n",
      "13. 2001\n",
      "14. thanks\n",
      "15. corp\n",
      "16. 10\n",
      "17. 01\n",
      "18. 000\n",
      "19. know\n",
      "20. 00\n",
      "\n",
      "Bar Plot to show their frequencies: \n"
     ]
    },
    {
     "data": {
      "image/png": "[encoded data removed]",
      "text/plain": [
       "<Figure size 432x288 with 1 Axes>"
      ]
     },
     "metadata": {
      "needs_background": "light"
     },
     "output_type": "display_data"
    },
    {
     "name": "stdout",
     "output_type": "stream",
     "text": [
      "\n",
      "The Top 20 Most Frequently Used Words in Spam Emails are:\n",
      "1. http\n",
      "2. com\n",
      "3. company\n",
      "4. www\n",
      "5. information\n",
      "6. statements\n",
      "7. nbsp\n",
      "8. 00\n",
      "9. email\n",
      "10. price\n",
      "11. new\n",
      "12. td\n",
      "13. time\n",
      "14. pills\n",
      "15. 99\n",
      "16. free\n",
      "17. font\n",
      "18. investment\n",
      "19. report\n",
      "20. money\n",
      "\n",
      "Bar Plot to show their frequencies\n"
     ]
    },
    {
     "data": {
      "image/png": "[encoded data removed]",
      "text/plain": [
       "<Figure size 432x288 with 1 Axes>"
      ]
     },
     "metadata": {
      "needs_background": "light"
     },
     "output_type": "display_data"
    },
    {
     "name": "stdout",
     "output_type": "stream",
     "text": [
      "\n",
      "Box-Plot to show comparison between Ham and Spam Emails\n"
     ]
    },
    {
     "data": {
      "image/png": "[encoded data removed]",
      "text/plain": [
       "<Figure size 648x432 with 1 Axes>"
      ]
     },
     "metadata": {
      "needs_background": "light"
     },
     "output_type": "display_data"
    },
    {
     "name": "stdout",
     "output_type": "stream",
     "text": [
      "\n",
      "The Spam E-Mails are usually longer since the boxplot median is greater for Spam E-mails.\n",
      "The mean value of the boxplot also confirms the same.\n",
      "\n",
      "The maximum length of an E-Mail for both Spam and Ham are almost similar\n",
      "This length is due to the multiple tab spaces in between messages.\n",
      "Also, we can see that Spam E-Mails are longer because of the lucrative words, hyperlinks, malicious websites URL used in it.\n",
      "\n",
      "\n",
      "************* MODEL PREDICTIONS *************\n",
      "\n",
      "~~~~~~~~~~SVM RESULTS~~~~~~~~~~\n",
      "Accuracy Score using SVM: 98.29\n",
      "Precision Score using SVM: 100.00\n",
      "F Score using SVM: 98.23\n",
      "\n",
      "~~~~~~~~~~MNB RESULTS~~~~~~~~~~\n",
      "Accuracy Score using MNB: 97.49\n",
      "Precision Score using MNB: 99.04\n",
      "F Score using MNB: 97.41\n",
      "\n",
      "\n",
      "\n",
      "\n",
      "************* MODEL SELECTION *************\n",
      "\n",
      "The below table shows the Accuracy, Recall and Precision Scores of SVM Model for different CV values:\n",
      "      CV  Train Accuracy  Test Accuracy  Test Recall  Test Precision\n",
      "0    1.0             1.0       0.982916     0.965278        1.000000\n",
      "1    2.0             1.0       0.981777     0.962963        1.000000\n",
      "2    3.0             1.0       0.980638     0.962963        0.997602\n",
      "3    4.0             1.0       0.979499     0.962963        0.995215\n",
      "4    5.0             1.0       0.979499     0.962963        0.995215\n",
      "5    6.0             1.0       0.979499     0.962963        0.995215\n",
      "6    7.0             1.0       0.979499     0.962963        0.995215\n",
      "7    8.0             1.0       0.978360     0.962963        0.992840\n",
      "8    9.0             1.0       0.978360     0.962963        0.992840\n",
      "9   10.0             1.0       0.978360     0.962963        0.992840\n",
      "10  11.0             1.0       0.978360     0.962963        0.992840\n",
      "11  12.0             1.0       0.978360     0.962963        0.992840\n",
      "12  13.0             1.0       0.978360     0.962963        0.992840\n",
      "13  14.0             1.0       0.978360     0.962963        0.992840\n",
      "14  15.0             1.0       0.978360     0.962963        0.992840\n",
      "15  16.0             1.0       0.978360     0.962963        0.992840\n",
      "16  17.0             1.0       0.978360     0.962963        0.992840\n",
      "17  18.0             1.0       0.978360     0.962963        0.992840\n",
      "18  19.0             1.0       0.978360     0.962963        0.992840\n",
      "\n",
      "***** Support Vector Machine Model Scores after fine tuning parameters *****\n",
      "Accuracy Score using SVM: 98.29\n",
      "Precision Score using SVM: 100.00\n",
      "F Score using SVM: 98.23\n",
      "\n",
      "\n",
      "The below table shows the Accuracy, Recall and Precision Scores of MNB Model for different alpha values:\n",
      "     alpha  Train Accuracy  Test Accuracy  Test Recall  Test Precision\n",
      "0   0.0001        0.995605       0.971526     0.953704        0.988010\n",
      "1   0.0056        0.994141       0.972665     0.953704        0.990385\n",
      "2   0.0111        0.993652       0.972665     0.953704        0.990385\n",
      "3   0.0166        0.993652       0.973804     0.956019        0.990408\n",
      "4   0.0221        0.993652       0.973804     0.956019        0.990408\n",
      "5   0.0276        0.993652       0.973804     0.956019        0.990408\n",
      "6   0.0331        0.993652       0.973804     0.956019        0.990408\n",
      "7   0.0386        0.993652       0.973804     0.956019        0.990408\n",
      "8   0.0441        0.993652       0.973804     0.956019        0.990408\n",
      "9   0.0496        0.993652       0.973804     0.956019        0.990408\n",
      "10  0.0551        0.993652       0.973804     0.956019        0.990408\n",
      "11  0.0606        0.993652       0.973804     0.956019        0.990408\n",
      "12  0.0661        0.993652       0.973804     0.956019        0.990408\n",
      "13  0.0716        0.993652       0.973804     0.956019        0.990408\n",
      "14  0.0771        0.993652       0.972665     0.956019        0.988038\n",
      "15  0.0826        0.993652       0.972665     0.956019        0.988038\n",
      "16  0.0881        0.993652       0.972665     0.956019        0.988038\n",
      "17  0.0936        0.993652       0.972665     0.956019        0.988038\n",
      "18  0.0991        0.993652       0.974943     0.960648        0.988095\n",
      "19  0.1046        0.993652       0.974943     0.960648        0.988095\n",
      "\n",
      "***** Multinomial Naive Bayes Model Scores after fine tuning parameters *****\n",
      "Accuracy Score using MNB: 97.61\n",
      "Precision Score using MNB: 99.28\n",
      "F Score using MNB: 97.53\n",
      "\n",
      "\n",
      "\n"
     ]
    },
    {
     "data": {
      "image/png": "[encoded data removed]",
      "text/plain": [
       "<Figure size 432x288 with 1 Axes>"
      ]
     },
     "metadata": {
      "needs_background": "light"
     },
     "output_type": "display_data"
    },
    {
     "name": "stdout",
     "output_type": "stream",
     "text": [
      "\n"
     ]
    },
    {
     "data": {
      "image/png": "[encoded data removed]",
      "text/plain": [
       "<Figure size 432x288 with 1 Axes>"
      ]
     },
     "metadata": {
      "needs_background": "light"
     },
     "output_type": "display_data"
    },
    {
     "name": "stdout",
     "output_type": "stream",
     "text": [
      "\n",
      "\n",
      "CONFUSION MATRIX for SVM Model:\n",
      "             Predicted HAM  Predicted SPAM\n",
      "Actual HAM             446               0\n",
      "Actual SPAM             15             417\n",
      "\n",
      "\n",
      "CONFUSION MATRIX for MNB Model:\n",
      "             Predicted HAM  Predicted SPAM\n",
      "Actual HAM             443               3\n",
      "Actual SPAM             18             414\n",
      "\n",
      "\n",
      "CONFUSION MATRIX - HEAT MAP for SVM Model\n"
     ]
    },
    {
     "data": {
      "image/png": "[encoded data removed]",
      "text/plain": [
       "<Figure size 432x288 with 2 Axes>"
      ]
     },
     "metadata": {},
     "output_type": "display_data"
    },
    {
     "name": "stdout",
     "output_type": "stream",
     "text": [
      "***** Receiver Operating Characteristic Curve *****\n",
      "\n",
      "Area under the ROC curve : 0.9969\n",
      "\n"
     ]
    },
    {
     "data": {
      "image/png": "[encoded data removed]",
      "text/plain": [
       "<Figure size 432x288 with 1 Axes>"
      ]
     },
     "metadata": {},
     "output_type": "display_data"
    },
    {
     "name": "stdout",
     "output_type": "stream",
     "text": [
      "***** Precision-Recall Curve *****\n",
      "\n",
      "SVM: f1-score=0.9812 AUC=0.9976\n"
     ]
    },
    {
     "data": {
      "image/png": "[encoded data removed]",
      "text/plain": [
       "<Figure size 432x288 with 1 Axes>"
      ]
     },
     "metadata": {},
     "output_type": "display_data"
    },
    {
     "name": "stdout",
     "output_type": "stream",
     "text": [
      "Total Execution Time : 38.28696250915527 seconds\n"
     ]
    }
   ],
   "source": [
    "def main():\n",
    "    \"\"\"---------Starting the timer to keep track of the execution times---------\"\"\"\n",
    "    start_time = time.time()\n",
    "    \n",
    "    # Sets the file path for the root directory\n",
    "    rootdir = \"D:\\\\Notes - Canvas\\\\Semester-2\\\\Spam Detection\"\n",
    "    # Reads the files\n",
    "    ham_list, spam_list = open_and_read_files(rootdir)\n",
    "    # Cleans the data\n",
    "    ham_cleaned_list, spam_cleaned_list = clean_list(ham_list, spam_list)\n",
    "    # Removes the duplicate emails\n",
    "    ham_unique_list, spam_unique_list = remove_duplicates(ham_cleaned_list, spam_cleaned_list)\n",
    "    # Resampling Ham Data\n",
    "    ham_resampled_list = resample(ham_unique_list,replace=False,n_samples=len(spam_unique_list),random_state=866)\n",
    "    # Converts as dataframe\n",
    "    emails_dataframe = convert_as_dataframe(ham_resampled_list, spam_unique_list)\n",
    "    # Splits the data into train and test dataset in a ratio of 70:30\n",
    "    message_train, message_test, class_train, class_test = split_data(emails_dataframe)\n",
    "    # Feature Extraction \n",
    "    message_train_Feature, message_test_Feature = feature_extraction(message_train, message_test)\n",
    "    # Exploratory Data Analysis\n",
    "    sliced_ham, sliced_spam, list_ham, list_spam = eda(message_train, class_train)\n",
    "    ham, spam = eda_comparison(list_ham, list_spam)\n",
    "    # Converts the class as integers\n",
    "    class_train_int = class_train.astype('int')\n",
    "    class_test_int = class_test.astype('int')\n",
    "    # Model Training & Prediction\n",
    "    Pred_SVM, Pred_MNB = model_predictions(message_train_Feature, message_test_Feature, class_train_int)\n",
    "    # SVM Model\n",
    "    svm_model = model_SVM(message_train_Feature, message_test_Feature, class_train_int, class_test_int)\n",
    "    # MNB Model\n",
    "    mnb_model = model_MNB(message_train_Feature, message_test_Feature, class_train_int, class_test_int)\n",
    "    # Model Evaluation\n",
    "    roc_auc, fpr, tpr, f1, area_under_curve, no_skill, precision, recall = model_Evaluation(message_train_Feature, message_test_Feature, class_train_int, class_test_int)\n",
    "    \n",
    "    \n",
    "    print(\"------------ STATISTICS ON TRAIN AND TEST DATASETS -------------\")\n",
    "    print(\"\\n\")\n",
    "    print(\"*****Before Data Cleaning*****\")\n",
    "    total_count = len(ham_list)+len(spam_list)\n",
    "    \n",
    "    print(\"Total Number of E-Mails : \" + str(total_count))\n",
    "    print(\"Total Number of Ham E-Mails : \" + str(len(ham_list)))\n",
    "    print(\"Total Number of Spam E-Mails : \" + str(len(spam_list)))\n",
    "    \n",
    "    print()\n",
    "    print(\"*****After Data Cleaning*****\")\n",
    "    total_count_cleaned = len(ham_unique_list)+len(spam_unique_list)\n",
    "    \n",
    "    print(\"Total Number of E-Mails : \" + str(total_count_cleaned))\n",
    "    print(\"Total Number of Ham E-Mails : \" + str(len(ham_unique_list)))\n",
    "    print(\"Total Number of Spam E-Mails : \" + str(len(spam_unique_list)))\n",
    "    \n",
    "    hamEmail_share = float(len(ham_unique_list)/total_count_cleaned)\n",
    "    spamEmail_share = float(len(spam_unique_list)/total_count_cleaned)\n",
    "    pieLabels='Ham', 'Spam'\n",
    "    EmailDis = [hamEmail_share, spamEmail_share]\n",
    "    figureObject, axesObject = plt.subplots()\n",
    "    axesObject.pie(EmailDis,labels=pieLabels,autopct='%1.1f%%',startangle=45)\n",
    "    axesObject.axis('equal')\n",
    "    plt.title(\"Data Distribution after Cleaning\")\n",
    "    plt.show()\n",
    "    \n",
    "    print()\n",
    "    print(\"*****After Resampling Data*****\")\n",
    "    total_count_resampled = len(ham_resampled_list)+len(spam_unique_list)\n",
    "    \n",
    "    print(\"Total Number of E-Mails : \" + str(total_count_resampled))\n",
    "    print(\"Total Number of Ham E-Mails : \" + str(len(ham_resampled_list)))\n",
    "    print(\"Total Number of Spam E-Mails : \" + str(len(spam_unique_list)))\n",
    "    \n",
    "    hamEmail_share = float(len(ham_resampled_list)/total_count_resampled)\n",
    "    spamEmail_share = float(len(spam_unique_list)/total_count_resampled)\n",
    "    pieLabels='Ham', 'Spam'\n",
    "    EmailDis = [hamEmail_share, spamEmail_share]\n",
    "    figureObject, axesObject = plt.subplots()\n",
    "    axesObject.pie(EmailDis,labels=pieLabels,autopct='%1.1f%%',startangle=90)\n",
    "    axesObject.axis('equal')\n",
    "    plt.title(\"Data Distribution after Resampling\")\n",
    "    plt.show()\n",
    "    \n",
    "    # Stores the resulting train and test dataset as csv files in local\n",
    "    train_df = pd.concat([message_train, class_train], axis=1)\n",
    "    train_df.to_csv('train_data.csv', sep=',', index=False)\n",
    "    test_df = pd.concat([message_test, class_test], axis=1)\n",
    "    test_df.to_csv('test_data.csv', sep=',', index=False)\n",
    "    \n",
    "    print(\"\\n\")\n",
    "    print()\n",
    "    print(\"---------------- EXPLORATORY DATA ANALYSIS ----------------\")\n",
    "    print()\n",
    "    # Iterating through a dictionary of Frequently used words in both Ham and Spam dict\n",
    "    ham_freq_words = []\n",
    "    spam_freq_words = []\n",
    "    for i,j in sliced_ham.items():\n",
    "        ham_freq_words.append(i)\n",
    "    \n",
    "    for i,j in sliced_spam.items():\n",
    "        spam_freq_words.append(i)\n",
    "        \n",
    "    print(\"The Top 20 Most Frequently Used Words in Ham Emails are:\")\n",
    "    count=0\n",
    "    for i in ham_freq_words:\n",
    "        count+=1\n",
    "        print(count,\". \",i,sep='')\n",
    "    \n",
    "    print()\n",
    "    print(\"Bar Plot to show their frequencies: \")\n",
    "    plt.barh(range(len(sliced_ham)), sliced_ham.values(), align='center', color='green')\n",
    "    plt.yticks(range(len(sliced_ham)), list(sliced_ham.keys()))\n",
    "    plt.show()\n",
    "    \n",
    "    print()\n",
    "    print(\"The Top 20 Most Frequently Used Words in Spam Emails are:\")\n",
    "    count=0\n",
    "    for i in spam_freq_words:\n",
    "        count+=1\n",
    "        print(count,\". \",i,sep='')\n",
    "    \n",
    "    print()\n",
    "    print(\"Bar Plot to show their frequencies\")\n",
    "    plt.barh(range(len(sliced_spam)), sliced_spam.values(), align='center', color='red')\n",
    "    plt.yticks(range(len(sliced_spam)), list(sliced_spam.keys()))\n",
    "    plt.show()\n",
    "    \n",
    "    print()\n",
    "    print(\"Box-Plot to show comparison between Ham and Spam Emails\")\n",
    "    data_to_plot = [ham, spam]\n",
    "    plt.figure(1, figsize=(9,6))\n",
    "    plt.boxplot(data_to_plot, showfliers=False, showmeans=True)\n",
    "    plt.xticks([1, 2], ['Ham', 'Spam'])\n",
    "    plt.show()\n",
    "    print()\n",
    "    \n",
    "    print(\"The Spam E-Mails are usually longer since the boxplot median is greater for Spam E-mails.\", end='\\n')\n",
    "    print(\"The mean value of the boxplot also confirms the same.\", end='\\n')\n",
    "    print()\n",
    "    print(\"The maximum length of an E-Mail for both Spam and Ham are almost similar\",\"This length is due to the multiple tab spaces in between messages.\", sep='\\n')\n",
    "    print(\"Also, we can see that Spam E-Mails are longer because of the lucrative words, hyperlinks, malicious websites URL used in it.\")\n",
    "    print('\\n')\n",
    "    \n",
    "    print(\"************* MODEL PREDICTIONS *************\")\n",
    "    print()\n",
    "    print(\"~~~~~~~~~~SVM RESULTS~~~~~~~~~~\")\n",
    "    class_test_int = class_test_int.to_numpy()\n",
    "    #Accuracy score using SVM\n",
    "    print(\"Accuracy Score using SVM: {0:.2f}\".format(accuracy_score(class_test_int, Pred_SVM)*100))\n",
    "    print(\"Precision Score using SVM: {0:.2f}\".format(precision_score(class_test_int, Pred_SVM)*100))\n",
    "    print(\"F Score using SVM:{0: .2f}\".format(f1_score(class_test_int, Pred_SVM)*100))\n",
    "    \n",
    "    svm_accuracy = accuracy_score(class_test_int, Pred_SVM)*100\n",
    "    svm_precision = precision_score(class_test_int, Pred_SVM)*100\n",
    "    svm_fscore = f1_score(class_test_int, Pred_SVM)*100\n",
    "\n",
    "    print()\n",
    "    print(\"~~~~~~~~~~MNB RESULTS~~~~~~~~~~\")\n",
    "    #Accuracy score using MNB\n",
    "    print(\"Accuracy Score using MNB: {0:.2f}\".format(accuracy_score(class_test_int, Pred_MNB)*100))\n",
    "    print(\"Precision Score using MNB: {0:.2f}\".format(precision_score(class_test_int, Pred_MNB)*100))\n",
    "    print(\"F Score using MNB:{0: .2f}\".format(f1_score(class_test_int, Pred_MNB)*100))\n",
    "    \n",
    "    mnb_accuracy = accuracy_score(class_test_int, Pred_MNB)*100\n",
    "    mnb_precision = precision_score(class_test_int, Pred_MNB)*100\n",
    "    mnb_fscore = f1_score(class_test_int, Pred_MNB)*100\n",
    "    \n",
    "    print('\\n')\n",
    "    print('\\n')\n",
    "    \n",
    "    print(\"************* MODEL SELECTION *************\")\n",
    "    print()\n",
    "    print(\"The below table shows the Accuracy, Recall and Precision Scores of SVM Model for different CV values:\")\n",
    "    print(svm_model)\n",
    "    print()\n",
    "    \n",
    "    svm_loaded = pickle.load(open('spamfilter_SVM.sav', 'rb'))\n",
    "    \n",
    "    print(\"***** Support Vector Machine Model Scores after fine tuning parameters *****\")\n",
    "    print(\"Accuracy Score using SVM: {0:.2f}\".format(accuracy_score(class_test_int, svm_loaded.predict(message_test_Feature))*100))\n",
    "    print(\"Precision Score using SVM: {0:.2f}\".format(precision_score(class_test_int, svm_loaded.predict(message_test_Feature))*100))\n",
    "    print(\"F Score using SVM:{0: .2f}\".format(f1_score(class_test_int, svm_loaded.predict(message_test_Feature))*100))\n",
    "    print('\\n')\n",
    "    \n",
    "    svm_accuracy_tuned = accuracy_score(class_test_int, svm_loaded.predict(message_test_Feature))*100\n",
    "    svm_precision_tuned = precision_score(class_test_int, svm_loaded.predict(message_test_Feature))*100\n",
    "    svm_fscore_tuned = f1_score(class_test_int, svm_loaded.predict(message_test_Feature))*100\n",
    "    \n",
    "    print(\"The below table shows the Accuracy, Recall and Precision Scores of MNB Model for different alpha values:\")\n",
    "    print(mnb_model.head(n=20))\n",
    "    print()\n",
    "    \n",
    "    mnb_loaded = pickle.load(open('spamfilter_MNB.sav', 'rb'))\n",
    "    \n",
    "    print(\"***** Multinomial Naive Bayes Model Scores after fine tuning parameters *****\")\n",
    "    print(\"Accuracy Score using MNB: {0:.2f}\".format(accuracy_score(class_test_int, mnb_loaded.predict(message_test_Feature))*100))\n",
    "    print(\"Precision Score using MNB: {0:.2f}\".format(precision_score(class_test_int, mnb_loaded.predict(message_test_Feature))*100))\n",
    "    print(\"F Score using MNB:{0: .2f}\".format(f1_score(class_test_int, mnb_loaded.predict(message_test_Feature))*100))\n",
    "    \n",
    "    mnb_accuracy_tuned = accuracy_score(class_test_int, mnb_loaded.predict(message_test_Feature))*100\n",
    "    mnb_precision_tuned = precision_score(class_test_int, mnb_loaded.predict(message_test_Feature))*100\n",
    "    mnb_fscore_tuned = f1_score(class_test_int, mnb_loaded.predict(message_test_Feature))*100\n",
    "    \n",
    "    ######### BAR PLOTS ###########\n",
    "    # Before Tuning\n",
    "    print('\\n')\n",
    "    print()\n",
    "    labels = ['Accuracy', 'F1 Score', 'Precision']\n",
    "    SVM = [svm_accuracy, svm_fscore, svm_precision]\n",
    "    MNB = [mnb_accuracy, mnb_fscore, mnb_precision]\n",
    "\n",
    "    x = np.arange(len(labels))  # the label locations\n",
    "    width = 0.3  # the width of the bars\n",
    "\n",
    "    fig, ax = plt.subplots()\n",
    "    rects1 = ax.bar(x - width/2, SVM, width, label='SVM')\n",
    "    rects2 = ax.bar(x + width/2, MNB, width, label='MNB')\n",
    "\n",
    "    ax.set_ylabel('Scores')\n",
    "    ax.set_title('Scores by Model - Before Tuning Parameters')\n",
    "    ax.set_xticks(x)\n",
    "    ax.set_xticklabels(labels)\n",
    "    ax.legend()\n",
    "\n",
    "    def autolabel(rects):\n",
    "        \"\"\"Attaches a text label above each bar in *rects*, displaying its height.\"\"\"\n",
    "        for rect in rects:\n",
    "            height = rect.get_height()\n",
    "            ax.annotate('{0: .2f}'.format(height),\n",
    "                        xy=(rect.get_x() + rect.get_width() / 2, height),\n",
    "                        xytext=(0, 3),  # 3 points vertical offset\n",
    "                        textcoords=\"offset points\",\n",
    "                        ha='center', va='bottom')\n",
    "\n",
    "    autolabel(rects1)\n",
    "    autolabel(rects2)\n",
    "\n",
    "    fig.tight_layout()\n",
    "\n",
    "    plt.ylim([0, 140])\n",
    "    plt.show()\n",
    "    \n",
    "    # After Tuning\n",
    "    print()\n",
    "    labels = ['Accuracy', 'F1 Score', 'Precision']\n",
    "    SVM_tuned = [svm_accuracy_tuned, svm_fscore_tuned, svm_precision_tuned]\n",
    "    MNB_tuned = [mnb_accuracy_tuned, mnb_fscore_tuned, mnb_precision_tuned]\n",
    "\n",
    "    x = np.arange(len(labels))  # the label locations\n",
    "    width = 0.3  # the width of the bars\n",
    "\n",
    "    fig, ax = plt.subplots()\n",
    "    rects1 = ax.bar(x - width/2, SVM_tuned, width, label='SVM')\n",
    "    rects2 = ax.bar(x + width/2, MNB_tuned, width, label='MNB')\n",
    "\n",
    "    ax.set_ylabel('Scores')\n",
    "    ax.set_title('Scores by Model - After Tuning Parameters')\n",
    "    ax.set_xticks(x)\n",
    "    ax.set_xticklabels(labels)\n",
    "    ax.legend()\n",
    "\n",
    "    def autolabel(rects):\n",
    "        for rect in rects:\n",
    "            height = rect.get_height()\n",
    "            ax.annotate('{0: .2f}'.format(height),\n",
    "                        xy=(rect.get_x() + rect.get_width() / 2, height),\n",
    "                        xytext=(0, 3),  # 3 points vertical offset\n",
    "                        textcoords=\"offset points\",\n",
    "                        ha='center', va='bottom')\n",
    "\n",
    "    autolabel(rects1)\n",
    "    autolabel(rects2)\n",
    "\n",
    "    fig.tight_layout()\n",
    "\n",
    "    plt.ylim([0, 140])\n",
    "    plt.show()\n",
    "    \n",
    "    print('\\n')\n",
    "    print(\"CONFUSION MATRIX for SVM Model:\")\n",
    "    svm_confusion_matrix = confusion_matrix(class_test_int, svm_loaded.predict(message_test_Feature))\n",
    "    svm_conf_matrix = pd.DataFrame(data = svm_confusion_matrix, columns = ['Predicted HAM', 'Predicted SPAM'], index = ['Actual HAM', 'Actual SPAM'])\n",
    "    print(svm_conf_matrix)\n",
    "    \n",
    "    print('\\n')\n",
    "    print(\"CONFUSION MATRIX for MNB Model:\")\n",
    "    mnb_confusion_matrix = confusion_matrix(class_test_int, mnb_loaded.predict(message_test_Feature))\n",
    "    mnb_conf_matrix = pd.DataFrame(data = mnb_confusion_matrix, columns = ['Predicted HAM', 'Predicted SPAM'], index = ['Actual HAM', 'Actual SPAM'])\n",
    "    print(mnb_conf_matrix)\n",
    "    \n",
    "    print('\\n')\n",
    "    \n",
    "    print(\"CONFUSION MATRIX - HEAT MAP for SVM Model\")\n",
    "    sn.set(font_scale=1) # for label size\n",
    "    sn.heatmap(svm_conf_matrix, annot=True, fmt=\"d\", annot_kws={\"size\": 16}, cbar_kws={\"orientation\": \"horizontal\"}) # font size\n",
    "    plt.show()\n",
    "    \n",
    "    print(\"***** Receiver Operating Characteristic Curve *****\")\n",
    "    print()\n",
    "    print(\"Area under the ROC curve : %0.4f\" % roc_auc)\n",
    "    print()\n",
    "    plt.figure()\n",
    "    plt.plot(fpr, tpr, label='ROC curve (area = %0.4f)' % roc_auc)\n",
    "    plt.plot([0, 1], [0, 1], 'k--')\n",
    "    plt.xlim([-0.1, 1.0])\n",
    "    plt.ylim([0.0, 1.1])\n",
    "    plt.xlabel('False Positive Rate')\n",
    "    plt.ylabel('True Positive Rate')\n",
    "    plt.title('ROC Curve - SVM Model')\n",
    "    plt.legend(loc=\"lower right\")\n",
    "    plt.show()\n",
    "    \n",
    "    print(\"***** Precision-Recall Curve *****\")\n",
    "    print()\n",
    "    print('SVM: f1-score=%.4f AUC=%.4f' % (f1, area_under_curve))\n",
    "    plt.plot([0, 1], [no_skill, no_skill], linestyle='--', label='No Skill')\n",
    "    plt.plot(recall, precision, marker='.', label='SVM')\n",
    "    plt.xlabel('Recall')\n",
    "    plt.ylabel('Precision')\n",
    "    plt.legend()\n",
    "    plt.show()\n",
    "\n",
    "    print(\"Total Execution Time : \" + str(time.time() - start_time) + \" seconds\")\n",
    "if __name__ == \"__main__\":\n",
    "    main()"
   ]
  },
  {
   "cell_type": "markdown",
   "metadata": {},
   "source": [
    "<font size=\"4\"><strong>Model Classification, Selection & Evaluation:</strong></font><br><br>\n",
    "After <b>Feature Extraction</b> from the training dataset, two different models, <font color=\"Red\"><b>Linear Support Vector Classification and Multinomial Naive Bayes</b></font> are chosen and trained to fit the dataset.<br><br>\n",
    "The accuracy of both the models are determined without any fine tuning the parameters.<br>\n",
    "<b>Accuracy Score using SVM: 98.29</b><br>\n",
    "<b>Accuracy Score using MNB: 97.49</b><br>\n",
    "\n",
    "Now, both the models are fine tuned for different hyperparameters and the scores for each 'k'-fold Cross Validation and for each alpha value are tabulated.<br>\n",
    "\n",
    "<font color=\"Green\"><strong> The aim of the model is to predict whether an E-Mail is Spam or Non-Spam. No Model can give 100% Accuracy in prediction.<br></strong></font>\n",
    "But, the misclassification should be a manageable option.<br><br>\n",
    "<font color=\"Red\"><strong>A Spam E-Mail can be classified as a Ham E-Mail but Ham E-Mail classified as Spam E_mail may go unnoticed which will result in some important information being undelivered to the end user.<br></strong></font>Therefore, A Model must be chosen in such a way that it has the <b>maximum</b> <font color=\"Red\"><b>\"Precision Score\"</b></font> followed by other factors.\n",
    "\n",
    "So, the best CV or alpha value is chosen based on the above logic and the models are fine tuned with the selected values.\n",
    "\n",
    "After hyper-parameter selection on models, the scores are calculated as below:<br>\n",
    "\n",
    "<font color=\"Red\"><b> *   SVM Model  *</b></font><br>\n",
    "<b>Accuracy Score using SVM: 98.29</b><br>\n",
    "<b>Precision Score using SVM: 100.00</b><br>\n",
    "<b>F Score using SVM: 98.23</b><br>\n",
    "\n",
    "<font color=\"Red\"><b> *   MNB Model  *</b></font><br>\n",
    "<b>Accuracy Score using MNB: 97.61</b><br>\n",
    "<b>Precision Score using MNB: 99.28</b><br>\n",
    "<b>F Score using MNB: 97.53</b><br>\n",
    "    \n",
    "From the above scores, we can conclude that <b>*SVM based Model has 100% Precision and better accuracy than MNB based Model.*</b><br>\n",
    "So, we can chose <font color=\"Red\"><b>Support Vector Machine</b></font> model as the <b>most effective model</b> for evaluation.\n",
    "    \n",
    "<font color=\"Green\"><b>From the Confusion Matrix - Heat Map of SVM Model, we can see that 446 Ham E-Mails are correctly classified as Ham, 417 Spam E-Mails are correctly classified as Spam and 15 Spam E-Mails are misclassified as Ham E-Mails.<br></b></font>\n",
    "<font color=\"Red\"><b>But, None of the Ham E-Mails are misclassified as Spam, which is the best output we can expect from a classification model.</b></font>\n",
    "\n",
    "To understand how the model performs in comparison with no skill model (random guess predictions of 50%), an ROC (Receiver Operating Chracteristic) curve is plotted for sensitivity (True Positive Rate - ratio of actual positives that are correctly classified) against specificity (1-False Positive Rate or True Negative Rate - ratio of actual negatives that are correctly classified).\n",
    "    \n",
    "<font color=\"Purple\"><b> Area under the ROC curve : 0.9969 </b></font>\n",
    "\n",
    "<b>SVM model's AUC is around 99.69% which is a very good value indicating excellent performance in classifying the E-Mails.</b>\n",
    "    \n",
    "<b>F1 score</b> - F1 Score is the weighted average of Precision and Recall. Therefore, this score takes both false positives and false negatives into account. F1 is usually more useful than accuracy, especially if the dataset has an uneven class distribution. Accuracy works best if false positives and false negatives have similar cost. If the cost of false positives and false negatives are very different, it’s better to look at both Precision and Recall. \n",
    "\n",
    "<font color=\"Red\"><b>F1 Score = 2*(Recall * Precision) / (Recall + Precision)</b></font>\n",
    "    \n",
    "In SVM Model used, <font color=\"Purple\"><b>F1 score is 0.9812</b></font>\n",
    "    \n",
    "Since the dataset used has even distribution and not biased, the <b>Accuracy and F1-Score is almost the same.</b>\n"
   ]
  },
  {
   "cell_type": "markdown",
   "metadata": {},
   "source": [
    "<font size=\"4\"><strong>References:</strong></font><br>\n",
    "\n",
    "[1]\t A. A. Alurkar et al., “A proposed data science approach for email spam classification using machine learning techniques,” in 2017 Internet of Things Business Models, Users, and Networks, Nov. 2017, pp. 1–5, doi: 10.1109/CTTE.2017.8260935.\n",
    "\n",
    "[2]\t randerson112358, “Email Spam Detection Using Python & Machine Learning,” Medium, Aug. 08, 2019. https://medium.com/@randerson112358/email-spam-detection-using-python-machine-learning-abe38c889855 (accessed Apr. 04, 2020).\n",
    "\n",
    "[3]\t “Email Spam Filtering: An Implementation with Python and Scikit-learn,” KDnuggets. https://www.kdnuggets.com/email-spam-filtering-an-implementation-with-python-and-scikit-learn.html/ (accessed Apr. 04, 2020).\n",
    "\n",
    "[4]\t “Imbalanced Data,” Google Developers. https://developers.google.com/machine-learning/data-prep/construct/sampling-splitting/imbalanced-data (accessed Apr. 04, 2020).\n",
    "\n",
    "[5]\t “sklearn.utils.resample — scikit-learn 0.22.2 documentation.” https://scikit-learn.org/stable/modules/generated/sklearn.utils.resample.html (accessed Apr. 04, 2020).\n",
    "\n",
    "[6]\t “API Reference — scikit-learn 0.22.2 documentation.” https://scikit-learn.org/stable/modules/classes.html#module-sklearn.svm (accessed Apr. 04, 2020).\n",
    "\n",
    "[7]\t J. Brownlee, “How to Use ROC Curves and Precision-Recall Curves for Classification in Python,” Machine Learning Mastery, Aug. 30, 2018. https://machinelearningmastery.com/roc-curves-and-precision-recall-curves-for-classification-in-python/ (accessed Apr. 04, 2020)."
   ]
  },
  {
   "cell_type": "markdown",
   "metadata": {},
   "source": [
    "<font size=\"4\"><strong>Appendix:</strong></font><br><br>\n",
    "The code has a <b>main()</b> function which has all the methods to be invoked.  \n",
    "The entire <b>.ipynb file</b> has to be run to get the desired findings and outputs.<br><b>All tables, findings, visualizations, plots are available at the main() function for reference.</b><br><br>\n",
    "Each method is explained clearly, with the parameters passed and what the method returns. Also, the objective of each method is clearly explained at the end of the method. At the end of main() function, the model classification, selection and evaluation is discussed in details. <b>The report has been referenced using IEEE Referencing Style.</b>"
   ]
  }
 ],
 "metadata": {
  "kernelspec": {
   "display_name": "Python 3",
   "language": "python",
   "name": "python3"
  },
  "language_info": {
   "codemirror_mode": {
    "name": "ipython",
    "version": 3
   },
   "file_extension": ".py",
   "mimetype": "text/x-python",
   "name": "python",
   "nbconvert_exporter": "python",
   "pygments_lexer": "ipython3",
   "version": "3.7.6"
  }
 },
 "nbformat": 4,
 "nbformat_minor": 4
}
